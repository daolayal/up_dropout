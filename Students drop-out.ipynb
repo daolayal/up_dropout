{
 "cells": [
  {
   "cell_type": "markdown",
   "metadata": {},
   "source": [
    "# Students drop-out"
   ]
  },
  {
   "cell_type": "code",
   "execution_count": 1,
   "metadata": {
    "scrolled": true
   },
   "outputs": [
    {
     "name": "stderr",
     "output_type": "stream",
     "text": [
      "/Users/diegoolaya/anaconda3/lib/python3.7/site-packages/sklearn/externals/six.py:31: DeprecationWarning: The module is deprecated in version 0.21 and will be removed in version 0.23 since we've dropped support for Python 2.7. Please rely on the official version of six (https://pypi.org/project/six/).\n",
      "  \"(https://pypi.org/project/six/).\", DeprecationWarning)\n",
      "/Users/diegoolaya/anaconda3/lib/python3.7/site-packages/sklearn/externals/joblib/__init__.py:15: DeprecationWarning: sklearn.externals.joblib is deprecated in 0.21 and will be removed in 0.23. Please import this functionality directly from joblib, which can be installed with: pip install joblib. If this warning is raised when loading pickled models, you may need to re-serialize those models with scikit-learn 0.21+.\n",
      "  warnings.warn(msg, category=DeprecationWarning)\n"
     ]
    },
    {
     "data": {
      "text/plain": [
       "'/Users/diegoolaya/OneDrive - Vrije Universiteit Brussel/Chile/Student Attrition/Students_Python'"
      ]
     },
     "execution_count": 1,
     "metadata": {},
     "output_type": "execute_result"
    }
   ],
   "source": [
    "import warnings\n",
    "warnings.filterwarnings('ignore')\n",
    "from ipynb.fs.full._init_ import *\n",
    "os.getcwd()"
   ]
  },
  {
   "cell_type": "markdown",
   "metadata": {},
   "source": [
    "### Load the data"
   ]
  },
  {
   "cell_type": "code",
   "execution_count": 2,
   "metadata": {},
   "outputs": [],
   "source": [
    "df_path = 'final_data_set.csv'\n",
    "docu_path = 'Documentation_V1.csv'\n",
    "# Firts submission(Documentation)\n",
    "    #name_target = \"V54\"\n",
    "    #treatment = \"all\"\n",
    "    #col_treatment = \"treatment\"\n",
    "    #df_list = pre_process(df_path,docu_path,name_target,treatment)\n",
    "    #df = df_list[0]\n",
    "    #list_predictors = df_list[1]\n",
    "# Second submission \n",
    "data_object = preprocess_with_woe(df_path,docu_path,\"V5\",\"treatment\")\n",
    "df = data_object['df']\n",
    "col_target = data_object['target']\n",
    "col_treatment = data_object['treatment']\n",
    "predictors = data_object['predictors']"
   ]
  },
  {
   "cell_type": "code",
   "execution_count": null,
   "metadata": {},
   "outputs": [],
   "source": [
    "#df.to_csv(r'/Users/diegoolaya/OneDrive - Vrije Universiteit Brussel/Research/R Files/Other/df_dropstudents_v1.csv')\n",
    "#predictors = pd.DataFrame(predictors)\n",
    "#predictors.to_csv(r'/Users/diegoolaya/OneDrive - Vrije Universiteit Brussel/Research/R Files/Other/predictors_dropstudents_v1.csv')"
   ]
  },
  {
   "cell_type": "markdown",
   "metadata": {},
   "source": [
    "### Non-zero predictors"
   ]
  },
  {
   "cell_type": "code",
   "execution_count": null,
   "metadata": {},
   "outputs": [],
   "source": [
    "#list_predictors = near_zero_variance(data['df'],data['predictors'])"
   ]
  },
  {
   "cell_type": "markdown",
   "metadata": {},
   "source": [
    "### Recursive feature elimination with CV loop"
   ]
  },
  {
   "cell_type": "code",
   "execution_count": null,
   "metadata": {},
   "outputs": [],
   "source": [
    "#estimator = RandomForestClassifier(n_estimators = 20,random_state=1)\n",
    "#selector = RFECV(estimator, step = 1, cv = 10)\n",
    "#selector = selector.fit(data['df'][data['predictors']],data['df'][data['target']])\n",
    "#list_predictors = list(data['df'].iloc[:,list(np.where(selector.support_ == True)[0])].columns)\n",
    "#filename = \"list_pred_students.sav\"\n",
    "#list_predictors = joblib.load(filename)\n",
    "#np.savetxt(\"predictors_students.csv\", list_predictors, delimiter=\",\", fmt='%s')"
   ]
  },
  {
   "cell_type": "markdown",
   "metadata": {},
   "source": [
    "## Predictive modeling"
   ]
  },
  {
   "cell_type": "markdown",
   "metadata": {},
   "source": [
    "### Cross-validation"
   ]
  },
  {
   "cell_type": "code",
   "execution_count": null,
   "metadata": {},
   "outputs": [],
   "source": [
    "#crossvalidated = crossvalidation(df,list_predictors,name_target)"
   ]
  },
  {
   "cell_type": "markdown",
   "metadata": {},
   "source": [
    "### Over-sampling using SMOTE"
   ]
  },
  {
   "cell_type": "code",
   "execution_count": null,
   "metadata": {},
   "outputs": [],
   "source": [
    "#dfs_train_smote = imba_cor(crossvalidated[0],list_predictors,name_target)"
   ]
  },
  {
   "cell_type": "markdown",
   "metadata": {},
   "source": [
    "### Modeling"
   ]
  },
  {
   "cell_type": "code",
   "execution_count": null,
   "metadata": {},
   "outputs": [],
   "source": [
    "#amount_folds = 5\n",
    "#fitted_models = []\n",
    "#pred_prob = []\n",
    "#for i in list(range(amount_folds)):\n",
    "    #fitted_models.append(predictive_model(dfs_train_smote[i],list_predictors,name_target,\"rf\"))\n",
    "    #pred_prob.append(predicted_prob(fitted_models[i],crossvalidated[1][i],list_predictors,name_target))"
   ]
  },
  {
   "cell_type": "code",
   "execution_count": null,
   "metadata": {},
   "outputs": [],
   "source": [
    "#top_predictors = 7\n",
    "#analyse_predictors = []\n",
    "#feature_importances = []\n",
    "#for i in list(range(amount_folds)):\n",
    "    #feature_importances.append(pd.DataFrame(fitted_models[i].feature_importances_,index = dfs_train_smote[i][list_predictors].columns,columns=['importance']).sort_values('importance',ascending=False))\n",
    "    #analyse_predictors.append(list(feature_importances[i][:top_predictors].index))\n",
    "#final_list = list(set(analyse_predictors[0]) | set(analyse_predictors[1]) | set(analyse_predictors[2]) | set(analyse_predictors[3]) | set(analyse_predictors[4]))\n",
    "#len(final_list)"
   ]
  },
  {
   "cell_type": "markdown",
   "metadata": {},
   "source": [
    "### ROC & AUC"
   ]
  },
  {
   "cell_type": "code",
   "execution_count": null,
   "metadata": {},
   "outputs": [],
   "source": [
    "#plot_roc(pred_prob)"
   ]
  },
  {
   "cell_type": "markdown",
   "metadata": {},
   "source": [
    "## Uplift modeling"
   ]
  },
  {
   "cell_type": "markdown",
   "metadata": {},
   "source": [
    "### Plot of treatments"
   ]
  },
  {
   "cell_type": "code",
   "execution_count": null,
   "metadata": {},
   "outputs": [],
   "source": [
    "#plot_treatments(df_path,docu_path)"
   ]
  },
  {
   "cell_type": "code",
   "execution_count": null,
   "metadata": {},
   "outputs": [],
   "source": [
    "#plot_obs_u(df,col_treatment,name_target,\"V2\",2)"
   ]
  },
  {
   "cell_type": "code",
   "execution_count": null,
   "metadata": {},
   "outputs": [],
   "source": [
    "#pd.crosstab(index = df[name_target], columns = df[col_treatment], margins = True)"
   ]
  },
  {
   "cell_type": "code",
   "execution_count": null,
   "metadata": {},
   "outputs": [],
   "source": [
    "df_pre_analysis = data(df[col_target],df[col_treatment],df[predictors])\n",
    "print(Summary(df_pre_analysis,predictors,2))"
   ]
  },
  {
   "cell_type": "markdown",
   "metadata": {},
   "source": [
    "### PS Matching"
   ]
  },
  {
   "cell_type": "markdown",
   "metadata": {},
   "source": [
    "#### FIRST SUBMISSION"
   ]
  },
  {
   "cell_type": "code",
   "execution_count": null,
   "metadata": {},
   "outputs": [],
   "source": [
    "#matches = matching(df,list_predictors,col_treatment,4,True)\n",
    "#df_matched = matches[2]\n",
    "#df_matched = pd.read_csv(\"df_matched.csv\", sep = ',')\n",
    "#list_predictors = [x.strip(' ') for x in list_predictors]\n",
    "#list_predictors.remove('V4_CU')\n",
    "#list_predictors.remove('V4_PS')\n",
    "#list_predictors = near_zero_variance(df_matched,list_predictors)\n",
    "#df_matched = df_matched.reset_index(drop=True)\n",
    "#df_post_matched = data(df_matched[name_target],df_matched[col_treatment],df_matched[list_predictors])\n",
    "#df = df_matched\n",
    "#df_predictors.columns = df_predictors.columns.str.replace(' ','')\n",
    "#df[[\"V9\",\"V10\",\"V55\"]]\n",
    "#df = df_matched"
   ]
  },
  {
   "cell_type": "markdown",
   "metadata": {},
   "source": [
    "#### SECOND SUBMISSION"
   ]
  },
  {
   "cell_type": "code",
   "execution_count": 3,
   "metadata": {},
   "outputs": [],
   "source": [
    "df_matched = pd.read_csv(\"df_dropstudents_matched_V1.csv\", sep = ',')\n",
    "df = df_matched"
   ]
  },
  {
   "cell_type": "code",
   "execution_count": null,
   "metadata": {},
   "outputs": [],
   "source": [
    "pos_matching = data(df[col_target],df[col_treatment],df[predictors])\n",
    "print(Summary(pos_matching,predictors,2))"
   ]
  },
  {
   "cell_type": "markdown",
   "metadata": {},
   "source": [
    "### Stratified CV keeping proportions of treated and non-treated"
   ]
  },
  {
   "cell_type": "code",
   "execution_count": 4,
   "metadata": {},
   "outputs": [],
   "source": [
    "amountofFolds = 10\n",
    "random.seed(100)\n",
    "folds = stratifiedCV(df,amountofFolds,col_treatment,col_target)\n",
    "get = []\n",
    "for i in list(range(0,amountofFolds)):\n",
    "    a = np.arange(len(folds))\n",
    "    get.append(a[np.arange(len(a))!= i])  \n",
    "trainIndexes = []\n",
    "testIndexes = []\n",
    "random.seed(100)\n",
    "for i in list(range(0,amountofFolds)):\n",
    "    trainIndexes.append(list(chain.from_iterable([folds[i] for i in get[i]])))\n",
    "    testIndexes.append(folds[i])"
   ]
  },
  {
   "cell_type": "markdown",
   "metadata": {},
   "source": [
    "### Modeling"
   ]
  },
  {
   "cell_type": "markdown",
   "metadata": {},
   "source": [
    "#### Own implementations"
   ]
  },
  {
   "cell_type": "code",
   "execution_count": null,
   "metadata": {},
   "outputs": [],
   "source": [
    "list_m_names = [\"SMARF\",\"SMAxgboost\",\"MOAxgboost\",\"MOARF\",\"MCAxgboost\",\"MCARF\"]\n",
    "\n",
    "def training_um(model_name):\n",
    "    summary_model = []\n",
    "    dataTrain = []\n",
    "    dataValidation = []\n",
    "    for i in list(range(0,amountofFolds)):\n",
    "        random.seed(100)\n",
    "        dataTrain.append(pd.concat([df.loc[trainIndexes[i],predictors],df.loc[trainIndexes[i],col_treatment],df.loc[trainIndexes[i],col_target]],axis = 1))\n",
    "        dataValidation.append(pd.concat([df.loc[testIndexes[i],predictors],df.loc[testIndexes[i],col_treatment],df.loc[testIndexes[i],col_target]], axis = 1))\n",
    "        summary_model.append(uplift_model(dataTrain[i],dataValidation[i],col_treatment,predictors,col_target, 2,model_name))\n",
    "    return summary_model;\n",
    "\n",
    "um_results = []\n",
    "for model in list_m_names:\n",
    "    um_results.append(training_um(model))"
   ]
  },
  {
   "cell_type": "code",
   "execution_count": null,
   "metadata": {},
   "outputs": [],
   "source": [
    "#joblib.dump(um_results,'um_results_V11.sav')"
   ]
  },
  {
   "cell_type": "code",
   "execution_count": null,
   "metadata": {},
   "outputs": [],
   "source": [
    "#dataTrain[9].to_csv(r'/Users/diegoolaya/OneDrive - Vrije Universiteit Brussel/Research/R Files/Other/trainF10_students.csv')\n",
    "#dataValidation[9].to_csv(r'/Users/diegoolaya/OneDrive - Vrije Universiteit Brussel/Research/R Files/Other/testF10_students.csv')"
   ]
  },
  {
   "cell_type": "markdown",
   "metadata": {},
   "source": [
    "#### Python built-in implementations"
   ]
  },
  {
   "cell_type": "code",
   "execution_count": null,
   "metadata": {},
   "outputs": [],
   "source": [
    "list_m_py = ['XLearner', 'RLearner', 'KL', 'ED', 'Chi', 'CTS']\n",
    "\n",
    "def training_umPy(model_name):\n",
    "    dataTrain = []\n",
    "    dataValidation = []\n",
    "    summary_model = []\n",
    "    uplift_model = []\n",
    "    y_pred = []\n",
    "    result = []\n",
    "    for i in list(range(0,amountofFolds)):\n",
    "        dataTrain.append(pd.concat([df.loc[trainIndexes[i],predictors],df.loc[trainIndexes[i],col_treatment],df.loc[trainIndexes[i],col_target]],axis = 1))\n",
    "        dataValidation.append(pd.concat([df.loc[testIndexes[i],predictors],df.loc[testIndexes[i],col_treatment],df.loc[testIndexes[i],col_target]], axis = 1))\n",
    "        dataTrain[i][col_treatment] = np.where(dataTrain[i][col_treatment] == 0, \"control\",\"treatment\")\n",
    "        dataValidation[i][col_treatment] = np.where(dataValidation[i][col_treatment] == 0, \"control\",\"treatment\")    \n",
    "        dataTrain[i][col_target] = np.where(dataTrain[i][col_target] == 0, 1,0)\n",
    "        dataValidation[i][col_target] = np.where(dataValidation[i][col_target] == 0, 1,0)       \n",
    "        uplift_model.append(UpliftRandomForestClassifier(n_estimators = 100,evaluationFunction = model_name,random_state = 100,control_name=\"control\",max_features = int(round(np.sqrt(len(predictors))))))\n",
    "        uplift_model[i].fit(dataTrain[i][predictors].values,treatment = dataTrain[i][col_treatment].values,y = dataTrain[i][col_target].values)\n",
    "        y_pred.append(uplift_model[i].predict(dataValidation[i][predictors].values))\n",
    "        result.append(pd.DataFrame(y_pred[i],columns=uplift_model[i].classes_))\n",
    "        dataValidation[i].reset_index(drop = True, inplace= True)\n",
    "        result[i].reset_index(drop = True, inplace= True)\n",
    "        result[i] = result[i].rename(columns={'treatment' : \"s\"})\n",
    "        dataValidation[i][col_treatment] = np.where(dataValidation[i][col_treatment] == \"control\", 0,1)\n",
    "        dataValidation[i][col_target] = np.where(dataValidation[i][col_target] == 1, 0,1)\n",
    "        summary_model.append(pd.concat([dataValidation[i],result[i]],axis =1))\n",
    "    return summary_model;\n",
    "\n",
    "um_resultsPy = []\n",
    "for model in list_m_py:\n",
    "    um_resultsPy.append(training_umPy(model))"
   ]
  },
  {
   "cell_type": "code",
   "execution_count": null,
   "metadata": {},
   "outputs": [],
   "source": [
    "#joblib.dump(um_resultsPy,'um_resultsPy_V11.sav')"
   ]
  },
  {
   "cell_type": "markdown",
   "metadata": {},
   "source": [
    "#### Join the results of all models"
   ]
  },
  {
   "cell_type": "code",
   "execution_count": 5,
   "metadata": {},
   "outputs": [],
   "source": [
    "list_m_names = [\"SMARF\",\"SMAxgboost\",\"MOAxgboost\",\"MOARF\",\"MCARF\",\"MCAAxgboost\"]\n",
    "list_m_py = ['XLearner', 'RLearner', 'KL', 'ED', 'Chi', 'CTS']\n",
    "um_results = joblib.load(\"um_results_V11.sav\")\n",
    "um_resultsPy = joblib.load(\"um_resultsPy_V11.sav\")\n",
    "um_results.extend(um_resultsPy)\n",
    "list_m_names.extend(list_m_py)"
   ]
  },
  {
   "cell_type": "markdown",
   "metadata": {},
   "source": [
    "### Performance"
   ]
  },
  {
   "cell_type": "code",
   "execution_count": null,
   "metadata": {},
   "outputs": [],
   "source": [
    "amountofFolds = 10\n",
    "def um_perf(continues,amountofFolds,um_results,list_m_names):\n",
    "    if continues == True:\n",
    "        performance = []\n",
    "        for i in list(range(0,amountofFolds)):\n",
    "            performance.append(performance_uplift(um_results[i],col_treatment,col_target,True,2,list_m_names))\n",
    "    elif continues == False:\n",
    "        performance = []\n",
    "        for i in list(range(0,amountofFolds)):\n",
    "            performance.append(performance_uplift(um_results[i],col_treatment,col_target,False,2,list_m_names))\n",
    "    return performance;\n",
    "\n",
    "# Performance (gains and df_predictions)\n",
    "\n",
    "perf_results = []\n",
    "for i in list(range(len(um_results))):\n",
    "    perf_results.append(um_perf(False,amountofFolds,um_results[i],list_m_names[i]))\n",
    "    \n",
    "def perf_plot(perf_results):\n",
    "    get_inc = []\n",
    "    for i in list(range(0,amountofFolds)):\n",
    "        get_inc.append(perf_results[i][0])\n",
    "    return get_inc,\n",
    "\n",
    "# Performance: only gains \n",
    "\n",
    "gains_plot = []\n",
    "for i in list(range(len(um_results))):\n",
    "    gains_plot.append(perf_plot(perf_results[i]))"
   ]
  },
  {
   "cell_type": "markdown",
   "metadata": {},
   "source": [
    "### Uplift curve"
   ]
  },
  {
   "cell_type": "markdown",
   "metadata": {},
   "source": [
    "#### Single model"
   ]
  },
  {
   "cell_type": "code",
   "execution_count": null,
   "metadata": {},
   "outputs": [],
   "source": [
    "performance_to_plot = gains_plot[2]\n",
    "perf_plot = []\n",
    "for i in list(range(0,amountofFolds)):\n",
    "    perf_plot.append(performance_to_plot[0][i])\n",
    "df_plot_uplift = pd.concat(perf_plot)\n",
    "sns.set_style(\"white\")\n",
    "flatui = [\"#567491\", \"#111112\"]\n",
    "ax = sns.lineplot(x='x', y= 'value', hue='variable', style = 'variable',palette=flatui,lw=1,ci = 15,data = pd.melt(df_plot_uplift, ['x']))\n",
    "#plt.xlim(0,100)\n",
    "#plt.ylim(0,5)\n",
    "plt.xticks(np.linspace(0, 100, 11, endpoint = True))\n",
    "plt.xlabel(\"Targeted population (%)\")\n",
    "plt.ylabel(\"Cumulated segment-wise uplift\")\n",
    "handles, labels = ax.get_legend_handles_labels()\n",
    "leg = plt.legend(loc='lower right',handles=handles[1:],labels=labels[1:],frameon=False)\n",
    "for legobj in leg.legendHandles:\n",
    "    legobj.set_linewidth(1)\n",
    "#plt.title(\"Uplift curve\")\n",
    "#fig_uplift = ax.get_figure()\n",
    "#fig_uplift.savefig('MOAxgboost_V1.pdf',bbox_inches='tight',transparent =True)"
   ]
  },
  {
   "cell_type": "markdown",
   "metadata": {},
   "source": [
    "#### All models"
   ]
  },
  {
   "cell_type": "code",
   "execution_count": null,
   "metadata": {},
   "outputs": [],
   "source": [
    "list_perf_models = []\n",
    "for i in list(range(len(um_results))):\n",
    "    list_perf_models.append(gains_plot[i][0])\n",
    "list_df_models = []\n",
    "for i in list_perf_models:\n",
    "    list_df_models.append(pd.melt(pd.concat(i), ['x']))\n",
    "df_plot_uplift = pd.concat(list_df_models)\n",
    "df_plot_uplift.columns = ['x','Model',\"Value\"]\n",
    "sns.set_style(\"white\")\n",
    "ax = sns.lineplot(x='x', y= 'Value', hue='Model',lw=1,ci = 10,data = df_plot_uplift)\n",
    "plt.xlabel(\"Targeted population (%)\")\n",
    "plt.ylabel(\"Uplift (%)\")\n",
    "plt.title(\"Uplift curve\")\n",
    "plt.xlim(0,100)\n",
    "plt.xticks(np.linspace(0, 100, 11, endpoint = True))\n",
    "#ax.legend(loc = 4, frameon = False, ncol = 1, labelspacing= 0.2)\n",
    "plt.legend(bbox_to_anchor=(1.05, 1), loc=2, borderaxespad=0.)\n",
    "#fig_uplift = ax.get_figure()\n",
    "#fig_uplift.savefig('Uplift_decile.pdf',bbox_inches='tight',transparent =True)"
   ]
  },
  {
   "cell_type": "markdown",
   "metadata": {},
   "source": [
    "### Qini metric"
   ]
  },
  {
   "cell_type": "markdown",
   "metadata": {},
   "source": [
    "#### At certain percentage"
   ]
  },
  {
   "cell_type": "code",
   "execution_count": null,
   "metadata": {},
   "outputs": [],
   "source": [
    "number_model = 11\n",
    "perf_list_model = gains_plot[number_model][0]\n",
    "model_name = list_m_names[number_model]\n",
    "print(list_m_names[number_model])\n",
    "\n",
    "def ave_qini_at_decile(perf_list_model,model_name,amountofFolds,percentage):\n",
    "    \n",
    "    #perf_list_model[5] = perf_list_model[5].fillna(0)\n",
    "        \n",
    "    qini_at_decile = []\n",
    "    for i in list(range(0,amountofFolds)):\n",
    "        qini_at_decile.append(qini_spe(perf_list_model[i],percentage,model_name))\n",
    "    \n",
    "    def Average(lst):\n",
    "        return sum(lst) / len(lst)     \n",
    "    qini_at_decile_mean = Average(qini_at_decile)\n",
    "    qini_at_decile_sd = np.std(qini_at_decile)\n",
    "    return [qini_at_decile_mean,qini_at_decile_sd];\n",
    "\n",
    "list_per = [10,30,50,100]\n",
    "\n",
    "for percentage in list_per:\n",
    "    print(ave_qini_at_decile(perf_list_model,model_name,amountofFolds,percentage))"
   ]
  },
  {
   "cell_type": "code",
   "execution_count": null,
   "metadata": {},
   "outputs": [],
   "source": [
    "#s = np.isnan(gains_plot[3][0][2])\n",
    "#gains_plot[3][0][2][s]=0.0"
   ]
  },
  {
   "cell_type": "markdown",
   "metadata": {},
   "source": [
    "#### At all percentages"
   ]
  },
  {
   "cell_type": "code",
   "execution_count": null,
   "metadata": {},
   "outputs": [],
   "source": [
    "out_qini = []\n",
    "for i in list(np.linspace(0, 100, 11, endpoint = True)):\n",
    "    out_qini.append(ave_qini_at_decile(perf_list_model,model_name,amountofFolds,i))\n",
    "out_qini"
   ]
  },
  {
   "cell_type": "markdown",
   "metadata": {},
   "source": [
    "#### Plot qini variation "
   ]
  },
  {
   "cell_type": "code",
   "execution_count": null,
   "metadata": {},
   "outputs": [],
   "source": [
    "def get_qini_plot(perf_list_model,model_name):\n",
    "    qinis_to_plot = qini_lists_fold(perf_list_model,model_name,amountofFolds)\n",
    "    return qinis_to_plot;\n",
    "\n",
    "list_qini_plot = []\n",
    "for i in list(range(len(um_results))):\n",
    "    list_qini_plot.append(get_qini_plot(gains_plot[i][0],list_m_names[i]))"
   ]
  },
  {
   "cell_type": "code",
   "execution_count": null,
   "metadata": {},
   "outputs": [],
   "source": [
    "list_df_models = []\n",
    "for i in list_qini_plot:\n",
    "    list_df_models.append(pd.melt(pd.concat(i), ['x']))\n",
    "df_plot_uplift = pd.concat(list_df_models)\n",
    "df_plot_uplift.columns = ['x','Model',\"Value\"]\n",
    "sns.set_style(\"white\")\n",
    "ax = sns.lineplot(x='x', y= 'Value', hue='Model',lw=0.9,ci = 10,data = df_plot_uplift)\n",
    "plt.xlabel(\"Targeted population (%)\")\n",
    "plt.ylabel(\"Qini\")\n",
    "#plt.title(\"Qini variation\")\n",
    "plt.xlim(0,100)\n",
    "plt.xticks(np.linspace(0, 100, 11, endpoint = True))\n",
    "#ax.legend(loc = 4, frameon = False, ncol = 1, labelspacing= 0.2)\n",
    "plt.legend(bbox_to_anchor=(1.05, 0.97), loc=2, borderaxespad=0.)\n",
    "#fig_uplift = ax.get_figure()\n",
    "#fig_uplift.savefig('Qini_decile.pdf',bbox_inches='tight',transparent =True)"
   ]
  },
  {
   "cell_type": "markdown",
   "metadata": {},
   "source": [
    "### Profiling"
   ]
  },
  {
   "cell_type": "markdown",
   "metadata": {},
   "source": [
    "#### Feature importance (xgboost)"
   ]
  },
  {
   "cell_type": "code",
   "execution_count": null,
   "metadata": {},
   "outputs": [],
   "source": [
    "def training_um(model_name):\n",
    "    summary_model = []\n",
    "    dataTrain = []\n",
    "    dataValidation = []\n",
    "    for i in list(range(0,amountofFolds)):\n",
    "        random.seed(100)\n",
    "        dataTrain.append(pd.concat([df.loc[trainIndexes[i],predictors],df.loc[trainIndexes[i],col_treatment],df.loc[trainIndexes[i],col_target]],axis = 1))\n",
    "        dataValidation.append(pd.concat([df.loc[testIndexes[i],predictors],df.loc[testIndexes[i],col_treatment],df.loc[testIndexes[i],col_target]], axis = 1))\n",
    "        summary_model.append(uplift_model(dataTrain[i],dataValidation[i],col_treatment,predictors,col_target, 2,model_name))\n",
    "    return summary_model;\n",
    "\n",
    "list_prof = [\"MOAxgboost\"]\n",
    "um_prof_res = []\n",
    "for model in list_prof:\n",
    "    um_prof_res.append(training_um(model))"
   ]
  },
  {
   "cell_type": "code",
   "execution_count": null,
   "metadata": {},
   "outputs": [],
   "source": [
    "imp_df = []\n",
    "for i in list(range(0,amountofFolds)):\n",
    "    imp_df.append(um_prof_res[0][i]['importance'])\n",
    "    \n",
    "importance_folds = pd.concat(imp_df, axis = 1)\n",
    "importance_folds.columns = [\"F1\",\"F2\",\"F3\",\"F4\",\"F5\",\"F6\",\"F7\",\"F8\",\"F9\",\"F10\"]\n",
    "importance_folds[\"average\"] = importance_folds.mean(axis=1)\n",
    "importance_folds = importance_folds.sort_values('average',ascending =False)\n",
    "Top = 10\n",
    "importance_folds.iloc[0:Top,:]\n",
    "final_list = list(importance_folds.iloc[0:Top,:].index)\n",
    "print(len(final_list))\n",
    "#importance_folds.to_csv(r'feature_importance_v1.csv')"
   ]
  },
  {
   "cell_type": "markdown",
   "metadata": {},
   "source": [
    "#### Plot feature importance (point plot)"
   ]
  },
  {
   "cell_type": "code",
   "execution_count": null,
   "metadata": {},
   "outputs": [],
   "source": [
    "def uplift_bin(predictions,treatment,target,direction,model_name,num_bins):\n",
    "    pred_sorted = predictions.sort_values(by = [\"s\"], ascending = False)\n",
    "    pred_sorted[\"ranking\"] =  list(range(1,len(pred_sorted)+1))\n",
    "    labels = list(range(1,num_bins+1))\n",
    "    pred_sorted[\"bin\"] = pd.cut(pred_sorted['ranking'], num_bins, labels = labels)\n",
    "    pred_sorted[\"ct\"] = np.where(pred_sorted[treatment]==0,1,0)\n",
    "    pred_sorted[\"r_t\"] = np.where((pred_sorted[treatment]==1) & (pred_sorted[target]==1),1,0)\n",
    "    pred_sorted[\"r_c\"] = np.where((pred_sorted[treatment]==0) & (pred_sorted[target]==1),1,0)\n",
    "    n_c = pred_sorted.pivot_table(index='bin', values= \"ct\", aggfunc='sum')\n",
    "    n_t = pred_sorted.pivot_table(index='bin', values= treatment, aggfunc='sum')\n",
    "    n_y1_c = pred_sorted.pivot_table(index='bin', values= \"r_c\", aggfunc='sum')\n",
    "    n_y1_t = pred_sorted.pivot_table(index='bin', values= \"r_t\", aggfunc='sum')\n",
    "    perf_table = pd.concat([n_c,n_t,n_y1_c,n_y1_t], axis = 1)\n",
    "    perf_table.columns = [\"n_c\",\"n_t\",\"n_y1_c\",\"n_y1_t\"]\n",
    "    perf_table[\"r_y1_c\"] = perf_table[\"n_y1_c\"]/perf_table[\"n_c\"]\n",
    "    perf_table[\"r_y1_t\"] = perf_table[\"n_y1_t\"]/perf_table[\"n_t\"]\n",
    "    if direction == 1:\n",
    "        perf_table[\"uplift\"] = perf_table[\"r_y1_t\"] - perf_table[\"r_y1_c\"]\n",
    "    elif direction == 2:\n",
    "        perf_table[\"uplift\"] = perf_table[\"r_y1_c\"] - perf_table[\"r_y1_t\"]\n",
    "    return pred_sorted;\n",
    "\n",
    "perf_results = []\n",
    "amountofFolds = 10\n",
    "for i in list(range(0,amountofFolds)):\n",
    "    perf_results.append(uplift_bin(um_results[2][i],col_treatment,col_target,2,list_m_names[2],4))"
   ]
  },
  {
   "cell_type": "code",
   "execution_count": null,
   "metadata": {},
   "outputs": [],
   "source": [
    "#final_list = [\"V40\",\"V3_IC\",\"V49\",\"V48\",\"V3_II\",\"V51\",\"V6\"]#,,\"V6\",\"V36_PaO\",\"V41\"\n",
    "perf_type = perf_results\n",
    "prof_folds = []\n",
    "for i in list(range(len(perf_type))):\n",
    "    prof_folds.append(perf_type[i].pivot_table(index='bin', values= final_list, aggfunc='mean'))\n",
    "ave_predictors_fold = pd.concat(prof_folds, axis = 1)\n",
    "ave_predictors_fold.index = list(range(1,len(ave_predictors_fold)+1))\n",
    "ave_predictors_fold[\"x\"] = ave_predictors_fold.index\n",
    "ave_predictors_fold\n",
    "ave_predictors_fold[\"x\"] = ave_predictors_fold[\"x\"].astype(object)\n",
    "ave_predictors_fold = pd.melt(ave_predictors_fold, ['x'])\n",
    "\n",
    "#ave_predictors_fold[\"variable\"] = ave_predictors_fold[\"variable\"].replace({\n",
    "    #\"V40\":\"Perf_1sem\",\n",
    "    #\"V3_IC\": \"BP1\",\n",
    "    #\"V49\":\"Econ_1sem\",\n",
    "    #\"V48\":\"Math_1sem\",\n",
    "    #\"V3_II\":\"BP2\",\n",
    "    #\"V51\": \"Engl_1sem\",\n",
    "    #\"V6\" :\"EntryScore\"})\n",
    "\n",
    "#ave_predictors_fold[\"variable\"] = ave_predictors_fold[\"variable\"].replace({\n",
    "    #\"V40\":\"Perf_1sem\",\n",
    "    #\"V3_IC\": \"BP1\",\n",
    "    #\"V49\":\"Econ_1sem\",\n",
    "    #\"V48\":\"Math_1sem\",\n",
    "    #\"V3_II\":\"BP2\",\n",
    "    #\"V51\": \"Engl_1sem\",\n",
    "    #\"V50\": \"Stat_1sem\",\n",
    "    #\"V6\" :\"EntryScore\",\n",
    "    #\"V36_PaO\":\"NoGrant\",\n",
    "    #\"V41\":\"NumCour_1sem\"})\n",
    "\n",
    "sns.set_style(\"white\")\n",
    "ax_prof = sns.pointplot(x='x', y= 'value', hue='variable',scale = 0.3, ci = None,data = ave_predictors_fold)\n",
    "plt.xlabel(\"Quartile\")\n",
    "plt.ylabel(\"Average\")\n",
    "#plt.title(\"Profiling by decile\")\n",
    "#plt.xlim(1,10)\n",
    "plt.legend(bbox_to_anchor=(1.05, 0.87), loc=2, borderaxespad=0.)\n",
    "#fig_uplift = ax_prof.get_figure()\n",
    "#fig_uplift.savefig('Uplift_decile_profiling.pdf',bbox_inches='tight',transparent =True)"
   ]
  },
  {
   "cell_type": "code",
   "execution_count": null,
   "metadata": {
    "scrolled": false
   },
   "outputs": [],
   "source": [
    "# Predictors variance accross folds\n",
    "#list_std_predictors = []\n",
    "#for predictor in predictors:\n",
    "    #list_std_predictors.append(ave_predictors_fold[ave_predictors_fold['variable'] == predictor]['value'].std())\n",
    "#df_stds = {'variable':predictors,'sd':list_std_predictors}\n",
    "#df_stds = pd.DataFrame(df_stds)\n",
    "#df_stds = df_stds.sort_values('sd',ascending =False)\n",
    "#list(df_stds.iloc[:10,0])"
   ]
  },
  {
   "cell_type": "code",
   "execution_count": null,
   "metadata": {},
   "outputs": [],
   "source": [
    "#pd.read_csv(\"final_data_set.csv\", sep = ',')['DEPENDENCIA'].value_counts()"
   ]
  },
  {
   "cell_type": "markdown",
   "metadata": {},
   "source": [
    "#### Radar chart "
   ]
  },
  {
   "cell_type": "code",
   "execution_count": null,
   "metadata": {},
   "outputs": [],
   "source": [
    "def average_var_folds(prof_folds,group):\n",
    "    fold_variables = []\n",
    "    for i in list(range(len(perf_results))):\n",
    "        fold_variables.append(prof_folds[i].iloc[group,:])\n",
    "    return pd.concat(fold_variables,axis=1).mean(axis=1);\n",
    "\n",
    "var_ave_fold = []\n",
    "num_bins = 4\n",
    "for i in list(range(num_bins)):\n",
    "    var_ave_fold.append(average_var_folds(prof_folds,i))\n",
    "var_ave_fold = pd.concat(var_ave_fold, axis =1)\n",
    "\n",
    "var_ave_fold.rename(index = {\n",
    "    \"V48\":\"PSU score mathematics\",\n",
    "    \"V75\": \"Type of entrance\",\n",
    "    \"V76\":\"Type of student (Bachelor A, B or C)\",\n",
    "    \"V46\" :\"Score entrance exam\",\n",
    "    \"V14\": \"Number of courses 1st semester\",\n",
    "    \"V15\": \"Private school\",\n",
    "    \"V55\":\"Performance 1st semester\",\n",
    "    \"V65\": \"Performance in English 1st semester\",\n",
    "    \"V67\": \"Number of  family members in primary school\",\n",
    "    \"V70\": \"Number of family members\"}, inplace = True)\n",
    "\n",
    "var_ave_fold.columns = [\"Bin 1\",\"Bin 2\", \"Bin 3\", \"Bin 4\"]#\"Bin 5\", \"Bin 6\", \"Bin 7\", \"Bin 8\", \"Bin 9\", \"Bin 10\"\n",
    "\n",
    "from math import pi\n",
    "\n",
    "categories=list(var_ave_fold.index)\n",
    "N = len(categories)\n",
    "values = list(var_ave_fold.iloc[:,0])\n",
    "values += values[:1]\n",
    "angles = [n / float(N) * 2 * pi for n in range(N)]\n",
    "angles += angles[:1]\n",
    "ax = plt.subplot(1,1,1, projection='polar') \n",
    "ax.set_theta_offset(pi / 2)\n",
    "ax.set_theta_direction(-1)\n",
    "plt.xticks(angles[:-1], categories, color='black', size=9, zorder = 200)\n",
    "for label, angle in zip(ax.get_xticklabels(), angles):\n",
    "  if angle in (0, np.pi):\n",
    "    label.set_horizontalalignment('center')\n",
    "  elif 0 < angle < np.pi:\n",
    "    label.set_horizontalalignment('left')\n",
    "  else:\n",
    "    label.set_horizontalalignment('right')\n",
    "#ax.set_rlabel_position(0)\n",
    "plt.yticks(np.arange(round(min(values),1), max(values)+0.1, step=0.1), color=\"black\", size=7)\n",
    "ax.set_rlabel_position(180 / N)\n",
    "#plt.ylim(0,40)\n",
    "#ax.grid(True)\n",
    "ax.plot(angles, values, linewidth=2, linestyle='solid')\n",
    "ax.fill(angles, values, 'b', alpha=0.1)"
   ]
  },
  {
   "cell_type": "code",
   "execution_count": null,
   "metadata": {},
   "outputs": [],
   "source": [
    "var_ave_fold[\"Bin 1\"]"
   ]
  },
  {
   "cell_type": "code",
   "execution_count": null,
   "metadata": {},
   "outputs": [],
   "source": [
    "var_ave_fold['group'] = list(var_ave_fold.index)\n",
    "categories = list(var_ave_fold.index)\n",
    "N = len(categories)\n",
    "angles = [n / float(N) * 2 * pi for n in range(N)]\n",
    "angles += angles[:1]\n",
    "ax = plt.subplot(111, polar=True)\n",
    "ax.set_theta_offset(pi / 2)\n",
    "ax.set_theta_direction(-1)\n",
    "plt.xticks(angles[:-1], categories, color='black', size=12)\n",
    "for label, angle in zip(ax.get_xticklabels(), angles):\n",
    "  if angle in (0, np.pi):\n",
    "    label.set_horizontalalignment('center')\n",
    "  elif 0 < angle < np.pi:\n",
    "    label.set_horizontalalignment('left')\n",
    "  else:\n",
    "    label.set_horizontalalignment('right')\n",
    "my_palette = plt.cm.get_cmap(\"tab10\", len(final_list))\n",
    "\n",
    "# Bin 1\n",
    "values= var_ave_fold[\"Bin 1\"].values.flatten().tolist()\n",
    "values += values[:1]\n",
    "ax.plot(angles, values,color=my_palette(0), linewidth=1.5, linestyle='solid', label=\"Quartile 1\")\n",
    "ax.fill(angles, values, 'b', alpha=0.05)\n",
    "# Bin 2\n",
    "values= var_ave_fold[\"Bin 2\"].values.flatten().tolist()\n",
    "values += values[:1]\n",
    "ax.plot(angles, values, linewidth=1.5,color=my_palette(1), linestyle='solid', label=\"Quartile 2\")\n",
    "ax.fill(angles, values, 'r', alpha=0.05)\n",
    "# Bin 3\n",
    "values= var_ave_fold[\"Bin 3\"].values.flatten().tolist()\n",
    "values += values[:1]\n",
    "ax.plot(angles, values,color=my_palette(2), linewidth=1.5, linestyle='solid', label=\"Quartile 3\")\n",
    "ax.fill(angles, values, 'r', alpha=0.05)\n",
    "# Bin 4\n",
    "values= var_ave_fold[\"Bin 4\"].values.flatten().tolist()\n",
    "values += values[:1]\n",
    "ax.plot(angles, values, linewidth=1.5,color=my_palette(3), linestyle='solid', label=\"Quartile 4\")\n",
    "ax.fill(angles, values, 'r', alpha=0.05)\n",
    "\n",
    "plt.yticks(np.arange(round(min(values),1), max(values)+0.1, step=0.2), color=\"black\", size=7)\n",
    "ax.legend(loc='upper center', bbox_to_anchor=(0.5, -0.15),\n",
    "          ncol=4, fancybox=True, shadow=True)\n",
    "my_dpi= 100\n",
    "plt.figure(figsize=(1000/my_dpi, 1000/my_dpi), dpi=my_dpi)\n",
    "ax.get_figure().savefig('Fig4.pdf',bbox_inches='tight',transparent =True)"
   ]
  },
  {
   "cell_type": "code",
   "execution_count": null,
   "metadata": {
    "scrolled": false
   },
   "outputs": [],
   "source": [
    "def make_spider(column,title,color):\n",
    "    categories=list(var_ave_fold.index)\n",
    "    N = len(categories)\n",
    "    angles = [n / float(N) * 2 * pi for n in range(N)]\n",
    "    angles += angles[:1]\n",
    "    ax = plt.subplot(111, polar=True) \n",
    "    ax.set_theta_offset(pi / 2)\n",
    "    ax.set_theta_direction(-1)\n",
    "    plt.xticks(angles[:-1], categories, color='black', size=12)\n",
    "    for label, angle in zip(ax.get_xticklabels(), angles):\n",
    "        if angle in (0, np.pi):\n",
    "            label.set_horizontalalignment('center')\n",
    "        elif 0 < angle < np.pi:\n",
    "            label.set_horizontalalignment('left')\n",
    "        else:\n",
    "            label.set_horizontalalignment('right')\n",
    "    ax.set_rlabel_position(180 / N)\n",
    "    values = list(var_ave_fold.loc[:,column])\n",
    "    values += values[:1]\n",
    "    ax.plot(angles, values, color=color, linewidth=2, linestyle='solid')\n",
    "    ax.fill(angles, values, color=color, alpha=0.1)\n",
    "    plt.yticks(np.arange(round(min(values),1), max(values)+0.1, step=0.1), color=\"black\", size=7)\n",
    "    #plt.title(title, size=11, color=color, y=1.1)\n",
    "    my_dpi=96\n",
    "    plt.figure(figsize=(1000/my_dpi, 1000/my_dpi), dpi=my_dpi)\n",
    "    return ax;\n",
    "    \n",
    "my_palette = plt.cm.get_cmap(\"tab10\", len(final_list))\n",
    "\n",
    "for i,column in enumerate(list(var_ave_fold.columns)):\n",
    "    make_spider(column = column, title = list(var_ave_fold.columns)[i], color=my_palette(i))"
   ]
  },
  {
   "cell_type": "code",
   "execution_count": null,
   "metadata": {},
   "outputs": [],
   "source": [
    "\n",
    "make_spider(column = \"Bin 4\", title = list(var_ave_fold.columns)[3], color=my_palette(3)).get_figure().savefig('profile_B4.pdf',bbox_inches='tight',transparent =True)\n"
   ]
  },
  {
   "cell_type": "code",
   "execution_count": null,
   "metadata": {},
   "outputs": [],
   "source": [
    "var_ave_fold"
   ]
  },
  {
   "cell_type": "markdown",
   "metadata": {},
   "source": [
    "### Uplift by bin (plot)"
   ]
  },
  {
   "cell_type": "code",
   "execution_count": 6,
   "metadata": {},
   "outputs": [],
   "source": [
    "# Submission 1: um_results[9][0]\n",
    "predictions = um_results[2][0]\n",
    "pred_sorted = predictions.sort_values(by = [\"s\"], ascending = False)\n",
    "pred_sorted[\"ranking\"] =  list(range(1,len(pred_sorted)+1))\n",
    "labels = [1,2,3,4,5]\n",
    "pred_sorted[\"bin\"] = pd.cut(pred_sorted['ranking'], 5, labels = labels)"
   ]
  },
  {
   "cell_type": "code",
   "execution_count": 30,
   "metadata": {},
   "outputs": [
    {
     "name": "stdout",
     "output_type": "stream",
     "text": [
      "MOAxgboost\n"
     ]
    },
    {
     "data": {
      "image/png": "[encoded data removed]",
      "text/plain": [
       "<Figure size 432x288 with 1 Axes>"
      ]
     },
     "metadata": {},
     "output_type": "display_data"
    }
   ],
   "source": [
    "def uplift_bin(predictions,treatment,target,continuous,direction,model_name,num_bins):\n",
    "    pred_sorted = predictions.sort_values(by = [\"s\"], ascending = False)\n",
    "    pred_sorted[\"ranking\"] =  list(range(1,len(pred_sorted)+1))\n",
    "    labels = list(range(1,num_bins+1))\n",
    "    pred_sorted[\"bin\"] = pd.cut(pred_sorted['ranking'], num_bins, labels = labels)\n",
    "    pred_sorted[\"ct\"] = np.where(pred_sorted[treatment]==0,1,0)\n",
    "    pred_sorted[\"r_t\"] = np.where((pred_sorted[treatment]==1) & (pred_sorted[target]==1),1,0)\n",
    "    pred_sorted[\"r_c\"] = np.where((pred_sorted[treatment]==0) & (pred_sorted[target]==1),1,0)\n",
    "    n_c = pred_sorted.pivot_table(index='bin', values= \"ct\", aggfunc='sum')\n",
    "    n_t = pred_sorted.pivot_table(index='bin', values= treatment, aggfunc='sum')\n",
    "    n_y1_c = pred_sorted.pivot_table(index='bin', values= \"r_c\", aggfunc='sum')\n",
    "    n_y1_t = pred_sorted.pivot_table(index='bin', values= \"r_t\", aggfunc='sum')\n",
    "    perf_table = pd.concat([n_c,n_t,n_y1_c,n_y1_t], axis = 1)\n",
    "    perf_table.columns = [\"n_c\",\"n_t\",\"n_y1_c\",\"n_y1_t\"]\n",
    "    perf_table[\"r_y1_c\"] = perf_table[\"n_y1_c\"]/perf_table[\"n_c\"]\n",
    "    perf_table[\"r_y1_t\"] = perf_table[\"n_y1_t\"]/perf_table[\"n_t\"]\n",
    "    if direction == 1:\n",
    "        perf_table[\"uplift\"] = perf_table[\"r_y1_t\"] - perf_table[\"r_y1_c\"]\n",
    "    elif direction == 2:\n",
    "        perf_table[\"uplift\"] = perf_table[\"r_y1_c\"] - perf_table[\"r_y1_t\"]\n",
    "    return perf_table;\n",
    "\n",
    "up_bin = []\n",
    "# Submission 1: num_model = 9\n",
    "num_model = 2\n",
    "for i in list(range(0,amountofFolds)):\n",
    "    up_bin.append(uplift_bin(um_results[num_model][i],col_treatment,col_target,False,2,list_m_names[num_model],4).loc[:,\"uplift\"])\n",
    "    \n",
    "df_up_bin = pd.DataFrame(pd.concat(up_bin, axis = 1).mean(axis=1))\n",
    "df_up_bin.columns = [\"uplift\"]\n",
    "df_up_bin[\"uplift\"] = round(df_up_bin[\"uplift\"],3)\n",
    "print(list_m_names[num_model])\n",
    "sns.set(font_scale=1.3)  \n",
    "sns.set_style(\"white\")\n",
    "ax = sns.barplot(x = df_up_bin.index, y = df_up_bin[\"uplift\"],color=\"#d9dcde\")\n",
    "plt.xlabel(\"Quartile\",fontsize=18)\n",
    "plt.ylabel(\"Uplift\",fontsize=18)\n",
    "plt.ylim((min(df_up_bin[\"uplift\"])-0.05,max(df_up_bin[\"uplift\"])+0.08))\n",
    "ax.tick_params(labelsize=18)\n",
    "\n",
    "#ax.set_ylim(0.05, 1)\n",
    "x_offset = -0.25\n",
    "y_offset = 0.01\n",
    "for p in ax.patches:\n",
    "    b = p.get_bbox()\n",
    "    val = \"{:+.3f}\".format(b.y1 + b.y0)\n",
    "    if b.y1 < 0:\n",
    "        ax.annotate(val, ((b.x0 + b.x1)/2 + x_offset, b.y1*-1 + y_offset*-5.1))\n",
    "    elif b.y1 > 0:\n",
    "        ax.annotate(val, ((b.x0 + b.x1)/2 + x_offset, b.y1 + y_offset))\n",
    "#fig_uplift = ax.get_figure()\n",
    "#fig_uplift.savefig('Fig2A.pdf',bbox_inches='tight',transparent =True)"
   ]
  },
  {
   "cell_type": "markdown",
   "metadata": {},
   "source": [
    "### Train a predictive model and target based on it"
   ]
  },
  {
   "cell_type": "code",
   "execution_count": 41,
   "metadata": {},
   "outputs": [],
   "source": [
    "def pred_model_treated(df_train,df_test,treatment,predictors,target, model):\n",
    "    \n",
    "    if model == \"rf\":\n",
    "        random_state = 100\n",
    "        dfTreatment = df_train[df_train[treatment] == 1]\n",
    "        crf_treatment = RandomForestClassifier(n_estimators = 500,random_state = random_state)\n",
    "        model_Treatment = crf_treatment.fit(dfTreatment[predictors],dfTreatment[target])\n",
    "        testIndices = df_test[predictors].index.values\n",
    "        prob_treat = model_Treatment.predict_proba(df_test[predictors])[:,1]\n",
    "        predictions_treat = pd.DataFrame(prob_treat,testIndices, columns = {\"s\"})\n",
    "        \n",
    "    elif model == \"xgboost\":\n",
    "        random_state = 100\n",
    "        dfTreatment = df_train[df_train[treatment] == 1]\n",
    "        crf_treatment = xgb.XGBClassifier(objective = \"binary:logistic\",colsample_bytree = 0.3, learning_rate = 0.1, max_depth = 5, alpha = 10, n_estimators = 30,random_state = random_state)\n",
    "        model_Treatment = crf_treatment.fit(dfTreatment[predictors],dfTreatment[target])\n",
    "        testIndices = df_test[predictors].index.values\n",
    "        prob_treat = model_Treatment.predict_proba(df_test[predictors])[:,1]\n",
    "        predictions_treat = pd.DataFrame(prob_treat,testIndices, columns = {\"s\"})\n",
    "        predictions = pd.concat([df_test,predictions_treat],axis = 1)\n",
    "        \n",
    "    predictions = pd.concat([df_test,predictions_treat],axis = 1)\n",
    "        \n",
    "    return predictions;\n",
    "\n",
    "p_m = []\n",
    "dataTrain = []\n",
    "dataValidation=[]\n",
    "\n",
    "for i in list(range(0,amountofFolds)):\n",
    "    dataTrain.append(pd.concat([df.loc[trainIndexes[i],predictors],df.loc[trainIndexes[i],col_treatment],df.loc[trainIndexes[i],col_target]],axis = 1))\n",
    "    dataValidation.append(pd.concat([df.loc[testIndexes[i],predictors],df.loc[testIndexes[i],col_treatment],df.loc[testIndexes[i],col_target]], axis = 1))\n",
    "    p_m.append(pred_model_treated(dataTrain[i],dataValidation[i],col_treatment,predictors,col_target,\"xgboost\"))     \n",
    "\n",
    "    \n",
    "pred_bin = []\n",
    "for i in list(range(0,amountofFolds)):\n",
    "    pred_bin.append(uplift_bin(p_m[i],col_treatment,col_target,False,2,\"predictive\",4).loc[:,\"uplift\"])\n",
    "    "
   ]
  },
  {
   "cell_type": "code",
   "execution_count": 42,
   "metadata": {},
   "outputs": [],
   "source": [
    "df_pred_bin = pd.DataFrame(pd.concat(pred_bin, axis = 1).mean(axis=1))\n",
    "df_pred_bin.columns = [\"uplift\"]\n",
    "df_pred_bin[\"uplift\"] = round(df_pred_bin[\"uplift\"],3)"
   ]
  },
  {
   "cell_type": "code",
   "execution_count": 40,
   "metadata": {},
   "outputs": [
    {
     "data": {
      "image/png": "[encoded data removed]",
      "text/plain": [
       "<Figure size 432x288 with 1 Axes>"
      ]
     },
     "metadata": {},
     "output_type": "display_data"
    }
   ],
   "source": [
    "sns.set(font_scale=1.3) \n",
    "sns.set_style(\"white\")\n",
    "ax = sns.barplot(x = df_pred_bin.index, y = df_pred_bin[\"uplift\"],color=\"#d9dcde\")\n",
    "plt.xlabel(\"Quartile\",fontsize=18)\n",
    "plt.ylabel(\"Uplift\",fontsize=18)\n",
    "plt.ylim(-0.114,0.151)\n",
    "#ax.set_ylim(0.05, 1)\n",
    "x_offset = -0.25\n",
    "y_offset = 0.01\n",
    "ax.tick_params(labelsize=18)\n",
    "for p in ax.patches:\n",
    "    b = p.get_bbox()\n",
    "    val = \"{:+.3f}\".format(b.y1 + b.y0)\n",
    "    if b.y1 < 0:\n",
    "        ax.annotate(val, ((b.x0 + b.x1)/2 + x_offset, b.y1*-1 + y_offset*-1.6))\n",
    "    elif b.y1 > 0:\n",
    "        ax.annotate(val, ((b.x0 + b.x1)/2 + x_offset, b.y1 + y_offset))\n",
    "#fig_uplift = ax.get_figure()\n",
    "#fig_uplift.savefig('Fig2B.pdf',bbox_inches='tight',transparent =True)"
   ]
  },
  {
   "cell_type": "code",
   "execution_count": 46,
   "metadata": {},
   "outputs": [
    {
     "data": {
      "image/png": "[encoded data removed]",
      "text/plain": [
       "<Figure size 432x288 with 1 Axes>"
      ]
     },
     "metadata": {},
     "output_type": "display_data"
    }
   ],
   "source": [
    "sns.set(font_scale=1.3) \n",
    "sns.set_style(\"white\")\n",
    "ax = sns.barplot(x = df_pred_bin.index, y = df_pred_bin[\"uplift\"],color=\"#d9dcde\")\n",
    "plt.xlabel(\"Quartile\",fontsize=18)\n",
    "plt.ylabel(\"Uplift\",fontsize=18)\n",
    "plt.ylim((-0.114,0.151))\n",
    "#ax.set_ylim(0.05, 1)\n",
    "x_offset = -0.25\n",
    "y_offset = 0.01\n",
    "ax.tick_params(labelsize=18)\n",
    "for p in ax.patches:\n",
    "    b = p.get_bbox()\n",
    "    val = \"{:+.3f}\".format(b.y1 + b.y0)\n",
    "    if b.y1 < 0:\n",
    "        ax.annotate(val, ((b.x0 + b.x1)/2 + x_offset, b.y1*-1 + y_offset*-1.6))\n",
    "    elif b.y1 > 0:\n",
    "        ax.annotate(val, ((b.x0 + b.x1)/2 + x_offset, b.y1 + y_offset))\n",
    "#fig_uplift = ax.get_figure()\n",
    "#fig_uplift.savefig('Fig2C.pdf',bbox_inches='tight',transparent =True)"
   ]
  }
 ],
 "metadata": {
  "kernelspec": {
   "display_name": "Python 3",
   "language": "python",
   "name": "python3"
  },
  "language_info": {
   "codemirror_mode": {
    "name": "ipython",
    "version": 3
   },
   "file_extension": ".py",
   "mimetype": "text/x-python",
   "name": "python",
   "nbconvert_exporter": "python",
   "pygments_lexer": "ipython3",
   "version": "3.7.3"
  }
 },
 "nbformat": 4,
 "nbformat_minor": 2
}
